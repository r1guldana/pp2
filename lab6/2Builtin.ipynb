{
 "cells": [
  {
   "cell_type": "code",
   "execution_count": 1,
   "metadata": {},
   "outputs": [
    {
     "name": "stdout",
     "output_type": "stream",
     "text": [
      "120\n"
     ]
    }
   ],
   "source": [
    "import builtins\n",
    "n = [1, 2, 3, 4, 5]\n",
    "result = 1\n",
    "for i in range(len(n)):\n",
    "    result *= n[i]\n",
    "print(result)"
   ]
  },
  {
   "cell_type": "code",
   "execution_count": 3,
   "metadata": {},
   "outputs": [
    {
     "name": "stdout",
     "output_type": "stream",
     "text": [
      "the number of upper case letters 4 , lower case letters 5\n"
     ]
    }
   ],
   "source": [
    "string = input()\n",
    "up_count = 0\n",
    "low_count = 0\n",
    "for i in range(len(string)):\n",
    "    if string[i].isupper():\n",
    "        up_count +=1\n",
    "    elif string[i].islower():\n",
    "        low_count +=1\n",
    "print( \"the number of upper case letters\", up_count,  \", lower case letters\", low_count)\n"
   ]
  },
  {
   "cell_type": "code",
   "execution_count": null,
   "metadata": {},
   "outputs": [],
   "source": [
    "string = input()\n",
    "s = len(string)\n",
    "for i in range(s):\n",
    "    if string[i]==string[s-i]:\n",
    "        print(\"palindrome\")\n",
    "    else:\n",
    "        print(\"not palindrome\")"
   ]
  }
 ],
 "metadata": {
  "kernelspec": {
   "display_name": "Python 3",
   "language": "python",
   "name": "python3"
  },
  "language_info": {
   "codemirror_mode": {
    "name": "ipython",
    "version": 3
   },
   "file_extension": ".py",
   "mimetype": "text/x-python",
   "name": "python",
   "nbconvert_exporter": "python",
   "pygments_lexer": "ipython3",
   "version": "3.10.11"
  }
 },
 "nbformat": 4,
 "nbformat_minor": 2
}
