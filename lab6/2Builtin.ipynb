{
 "cells": [
  {
   "cell_type": "code",
   "execution_count": 1,
   "metadata": {},
   "outputs": [
    {
     "name": "stdout",
     "output_type": "stream",
     "text": [
      "120\n"
     ]
    }
   ],
   "source": [
    "import builtins\n",
    "n = [1, 2, 3, 4, 5]\n",
    "result = 1\n",
    "for i in range(len(n)):\n",
    "    result *= n[i]\n",
    "print(result)"
   ]
  },
  {
   "cell_type": "code",
   "execution_count": 3,
   "metadata": {},
   "outputs": [
    {
     "name": "stdout",
     "output_type": "stream",
     "text": [
      "the number of upper case letters 4 , lower case letters 5\n"
     ]
    }
   ],
   "source": [
    "string = input()\n",
    "up_count = 0\n",
    "low_count = 0\n",
    "for i in range(len(string)):\n",
    "    if string[i].isupper():\n",
    "        up_count +=1\n",
    "    elif string[i].islower():\n",
    "        low_count +=1\n",
    "print( \"the number of upper case letters\", up_count,  \", lower case letters\", low_count)\n"
   ]
  },
  {
   "cell_type": "code",
   "execution_count": 7,
   "metadata": {},
   "outputs": [
    {
     "name": "stdout",
     "output_type": "stream",
     "text": [
      "not palindrome\n"
     ]
    }
   ],
   "source": [
    "string = input()\n",
    "s = len(string)\n",
    "is_true = bool(False)\n",
    "for i in range(s-1):\n",
    "    if string[i] == string[s-1-i]:\n",
    "        is_true = True\n",
    "\n",
    "if is_true:\n",
    "    print(\"palindrome\")\n",
    "else:\n",
    "    print(\"not palindrome\")"
   ]
  },
  {
   "cell_type": "code",
   "execution_count": 9,
   "metadata": {},
   "outputs": [
    {
     "name": "stdout",
     "output_type": "stream",
     "text": [
      "Square root of 25100 after 2123 milliseconds is 158.42979517754858\n"
     ]
    }
   ],
   "source": [
    "import time\n",
    "import math\n",
    "import builtins\n",
    "      \n",
    "\n",
    "num = 25100\n",
    "delay = 2123\n",
    "time.sleep(delay / 1000)\n",
    "result = math.sqrt(num)\n",
    "print(f\"Square root of {num} after {delay} milliseconds is {result}\")\n"
   ]
  },
  {
   "cell_type": "code",
   "execution_count": 10,
   "metadata": {},
   "outputs": [
    {
     "name": "stdout",
     "output_type": "stream",
     "text": [
      "False\n"
     ]
    }
   ],
   "source": [
    "tup = (True, False, True, True)\n",
    "print(all(tup))\n",
    "    "
   ]
  }
 ],
 "metadata": {
  "kernelspec": {
   "display_name": "Python 3",
   "language": "python",
   "name": "python3"
  },
  "language_info": {
   "codemirror_mode": {
    "name": "ipython",
    "version": 3
   },
   "file_extension": ".py",
   "mimetype": "text/x-python",
   "name": "python",
   "nbconvert_exporter": "python",
   "pygments_lexer": "ipython3",
   "version": "3.10.11"
  }
 },
 "nbformat": 4,
 "nbformat_minor": 2
}
