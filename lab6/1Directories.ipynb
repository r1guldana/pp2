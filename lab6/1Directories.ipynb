{
 "cells": [
  {
   "cell_type": "code",
   "execution_count": null,
   "metadata": {},
   "outputs": [
    {
     "name": "stdout",
     "output_type": "stream",
     "text": [
      "['file.ipynb', 'new.txt']\n",
      "C:\\pp2\\lab6\n"
     ]
    }
   ],
   "source": [
    "#1.1\n",
    "import os\n",
    "\n",
    "os.listdir()\n",
    "print(os.listdir(\"C:\\\\pp2\\\\lab6\"))\n",
    "print(str(\"C:\\pp2\\lab6\"))"
   ]
  },
  {
   "cell_type": "code",
   "execution_count": null,
   "metadata": {},
   "outputs": [
    {
     "name": "stdout",
     "output_type": "stream",
     "text": [
      "Checking access for path: C:\\pp2\\lab6\\new.txt\n",
      "Readable: Yes\n",
      "Writable: Yes\n",
      "Executable: Yes\n"
     ]
    }
   ],
   "source": [
    "#1.2\n",
    "import os\n",
    "def check_path(path):\n",
    "    if not os.path.exists(path):\n",
    "        print(f\"The path '{path}' does not exist.\")\n",
    "        return\n",
    "\n",
    "    print(f\"Checking access for path: {path}\")\n",
    "    \n",
    "    if os.access(path, os.R_OK):\n",
    "        print(\"Readable: Yes\")\n",
    "    else:\n",
    "        print(\"Readable: No\")\n",
    "    \n",
    "    if os.access(path, os.W_OK):\n",
    "        print(\"Writable: Yes\")\n",
    "    else:\n",
    "        print(\"Writable: No\")\n",
    "    \n",
    "    if os.access(path, os.X_OK):\n",
    "        print(\"Executable: Yes\")\n",
    "    else:\n",
    "        print(\"Executable: No\")\n",
    "\n",
    "\n",
    "if __name__ == \"__main__\":\n",
    "    path = input(\"Enter the path to check access: \")\n",
    "    check_path(path)\n",
    "\n"
   ]
  },
  {
   "cell_type": "code",
   "execution_count": 35,
   "metadata": {},
   "outputs": [
    {
     "name": "stdout",
     "output_type": "stream",
     "text": [
      "The path 'C:\\pp2\\lab6' does exist.\n"
     ]
    },
    {
     "data": {
      "text/plain": [
       "['file.ipynb', 'new.txt']"
      ]
     },
     "execution_count": 35,
     "metadata": {},
     "output_type": "execute_result"
    }
   ],
   "source": [
    "#1.3\n",
    "import os\n",
    "\n",
    "def check_path(path):\n",
    "    if not os.path.exists(path):\n",
    "        print(f\"The path '{path}' does not exist.\")\n",
    "        return\n",
    "    else:\n",
    "        print(f\"The path '{path}' does exist.\")\n",
    "        return os.listdir(path)\n",
    "\n",
    "path = input(\"Enter the path to check exists : \") #C:\\pp2\\lab6\\new.txt \n",
    "check_path(path)"
   ]
  },
  {
   "cell_type": "code",
   "execution_count": 37,
   "metadata": {},
   "outputs": [
    {
     "name": "stdout",
     "output_type": "stream",
     "text": [
      "5\n"
     ]
    }
   ],
   "source": [
    "#1.4\n",
    "f = open(\"new.txt\")\n",
    "\n",
    "print(len(f.readlines()))\n"
   ]
  },
  {
   "cell_type": "code",
   "execution_count": 51,
   "metadata": {},
   "outputs": [],
   "source": [
    "#1.5\n",
    "f = open(\"new.txt\", \"a\")\n",
    "f.write(\"Some text\")\n",
    "f.close()"
   ]
  },
  {
   "cell_type": "code",
   "execution_count": null,
   "metadata": {},
   "outputs": [
    {
     "name": "stdout",
     "output_type": "stream",
     "text": [
      "Created A.txt\n",
      "Created B.txt\n",
      "Created C.txt\n",
      "Created D.txt\n",
      "Created E.txt\n",
      "Created F.txt\n",
      "Created G.txt\n",
      "Created H.txt\n",
      "Created I.txt\n",
      "Created J.txt\n",
      "Created K.txt\n",
      "Created L.txt\n",
      "Created M.txt\n",
      "Created N.txt\n",
      "Created O.txt\n",
      "Created P.txt\n",
      "Created Q.txt\n",
      "Created R.txt\n",
      "Created S.txt\n",
      "Created T.txt\n",
      "Created U.txt\n",
      "Created V.txt\n",
      "Created W.txt\n",
      "Created X.txt\n",
      "Created Y.txt\n",
      "Created Z.txt\n"
     ]
    }
   ],
   "source": [
    "#1.6\n",
    "for i in range(26):\n",
    "    file = f\"{chr(65+i)}.txt\"\n",
    "    with open(file, \"w\") as f: \n",
    "        f.write(f\"This is file {file}\\n\")  \n",
    "    print(f\" {file}\")\n"
   ]
  },
  {
   "cell_type": "code",
   "execution_count": null,
   "metadata": {},
   "outputs": [
    {
     "data": {
      "text/plain": [
       "'A.txt'"
      ]
     },
     "execution_count": 55,
     "metadata": {},
     "output_type": "execute_result"
    }
   ],
   "source": [
    "#1.7\n",
    "import shutil\n",
    "\n",
    "f = \"new.txt\"\n",
    "a = \"A.txt\"\n",
    "shutil.copyfile(f, a)\n",
    "\n",
    "\n"
   ]
  },
  {
   "cell_type": "code",
   "execution_count": null,
   "metadata": {},
   "outputs": [
    {
     "name": "stdout",
     "output_type": "stream",
     "text": [
      "The path 'C:\\pp2\\lab6\\C.txt' does not exist.\n"
     ]
    }
   ],
   "source": [
    "#1.8\n",
    "import os\n",
    "def check_path(path):\n",
    "    if not os.path.exists(path):\n",
    "        print(f\"The path '{path}' does not exist.\")\n",
    "        return\n",
    "    else:\n",
    "        print(f\"The path '{path}' deleted.\")\n",
    "        return os.remove(path)\n",
    "\n",
    "path = input(\"Enter the path to check exists : \") #C:\\pp2\\lab6\\C.txt\n",
    "check_path(path)\n"
   ]
  }
 ],
 "metadata": {
  "kernelspec": {
   "display_name": "Python 3",
   "language": "python",
   "name": "python3"
  },
  "language_info": {
   "codemirror_mode": {
    "name": "ipython",
    "version": 3
   },
   "file_extension": ".py",
   "mimetype": "text/x-python",
   "name": "python",
   "nbconvert_exporter": "python",
   "pygments_lexer": "ipython3",
   "version": "3.10.11"
  }
 },
 "nbformat": 4,
 "nbformat_minor": 2
}
