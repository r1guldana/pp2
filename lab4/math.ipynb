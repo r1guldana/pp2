{
 "cells": [
  {
   "cell_type": "code",
   "execution_count": 1,
   "metadata": {},
   "outputs": [
    {
     "name": "stdout",
     "output_type": "stream",
     "text": [
      "Output radian:  0.2617993877991494\n"
     ]
    }
   ],
   "source": [
    "import math\n",
    "d = int(input(\"Input degree: \"))\n",
    "r = math.radians(d)\n",
    "print(\"Output radian: \", r)"
   ]
  },
  {
   "cell_type": "code",
   "execution_count": 4,
   "metadata": {},
   "outputs": [
    {
     "name": "stdout",
     "output_type": "stream",
     "text": [
      "Expected Output:  27.5\n"
     ]
    }
   ],
   "source": [
    "import math\n",
    "h = int(input(\"Height: \"))\n",
    "a = int(input(\"Base, first value \"))\n",
    "b = int(input(\"Base, second value \"))\n",
    "print(\"Expected Output: \", (a+b)/2*h)"
   ]
  },
  {
   "cell_type": "code",
   "execution_count": 10,
   "metadata": {},
   "outputs": [
    {
     "name": "stdout",
     "output_type": "stream",
     "text": [
      "The area of the polygon is:  625.0\n"
     ]
    }
   ],
   "source": [
    "import math\n",
    "c = int(input(\"Input number of sides:\"))\n",
    "l = int(input(\"Input the length of a side: \"))\n",
    "s = (c* l**2) // (4*math.tan(math.pi / c))\n",
    "print(\"The area of the polygon is: \", s  )"
   ]
  },
  {
   "cell_type": "code",
   "execution_count": 12,
   "metadata": {},
   "outputs": [
    {
     "name": "stdout",
     "output_type": "stream",
     "text": [
      "Expected Output:  20\n"
     ]
    }
   ],
   "source": [
    "import math\n",
    "a = int(input(\"Length of base: \"))\n",
    "h = int(input(\"Height of parallelogram: \"))\n",
    "\n",
    "\n",
    "print(\"Expected Output: \", a*h)"
   ]
  }
 ],
 "metadata": {
  "kernelspec": {
   "display_name": "Python 3",
   "language": "python",
   "name": "python3"
  },
  "language_info": {
   "codemirror_mode": {
    "name": "ipython",
    "version": 3
   },
   "file_extension": ".py",
   "mimetype": "text/x-python",
   "name": "python",
   "nbconvert_exporter": "python",
   "pygments_lexer": "ipython3",
   "version": "3.10.11"
  }
 },
 "nbformat": 4,
 "nbformat_minor": 2
}
