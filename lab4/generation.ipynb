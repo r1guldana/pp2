{
 "cells": [
  {
   "cell_type": "code",
   "execution_count": 17,
   "metadata": {},
   "outputs": [
    {
     "name": "stdout",
     "output_type": "stream",
     "text": [
      "0\n",
      "1\n",
      "4\n",
      "9\n",
      "16\n",
      "25\n"
     ]
    }
   ],
   "source": [
    "n = int(input())\n",
    "squares = (i**2 for i in range(n+1))\n",
    "for i in range(n+1):\n",
    "    print(next(squares))"
   ]
  },
  {
   "cell_type": "code",
   "execution_count": 18,
   "metadata": {},
   "outputs": [
    {
     "name": "stdout",
     "output_type": "stream",
     "text": [
      "0, \n",
      "2, \n",
      "4, \n",
      "6, \n",
      "8, \n",
      "10, \n",
      "12, \n"
     ]
    }
   ],
   "source": [
    "n = int(input())\n",
    "evens = (i for i in range(n+1) if i%2==0 )\n",
    "for i in range(n//2+1):\n",
    "    print(f\"{next(evens)}, \" )\n",
    "    StopIteration"
   ]
  },
  {
   "cell_type": "code",
   "execution_count": 19,
   "metadata": {},
   "outputs": [
    {
     "name": "stdout",
     "output_type": "stream",
     "text": [
      "0\n",
      "12\n"
     ]
    }
   ],
   "source": [
    "n = int(input())\n",
    "evens = (i for i in range(n+1) if i%3==0 and i%4==0 )\n",
    "for i in range(n//12+1):\n",
    "    print(next(evens) )\n",
    "    StopIteration"
   ]
  },
  {
   "cell_type": "code",
   "execution_count": 25,
   "metadata": {},
   "outputs": [
    {
     "name": "stdout",
     "output_type": "stream",
     "text": [
      "4\n",
      "9\n",
      "16\n",
      "25\n"
     ]
    }
   ],
   "source": [
    "def sqr(a, b):\n",
    "    for a in range(a, b+1):\n",
    "        yield a**2\n",
    "n = int(input())\n",
    "m = int(input())\n",
    "\n",
    "for i in sqr(n,m):\n",
    "    print(i)"
   ]
  },
  {
   "cell_type": "code",
   "execution_count": 28,
   "metadata": {},
   "outputs": [
    {
     "name": "stdout",
     "output_type": "stream",
     "text": [
      "5\n",
      "4\n",
      "3\n",
      "2\n",
      "1\n",
      "0\n"
     ]
    }
   ],
   "source": [
    "def sqr(a):\n",
    "    for i in range(0, a+1):  \n",
    "        yield a \n",
    "        a -= 1\n",
    "\n",
    "n = int(input())\n",
    "\n",
    "for num in sqr(n):  \n",
    "    print(num)\n"
   ]
  }
 ],
 "metadata": {
  "kernelspec": {
   "display_name": "Python 3",
   "language": "python",
   "name": "python3"
  },
  "language_info": {
   "codemirror_mode": {
    "name": "ipython",
    "version": 3
   },
   "file_extension": ".py",
   "mimetype": "text/x-python",
   "name": "python",
   "nbconvert_exporter": "python",
   "pygments_lexer": "ipython3",
   "version": "3.10.11"
  }
 },
 "nbformat": 4,
 "nbformat_minor": 2
}
