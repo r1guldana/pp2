{
 "cells": [
  {
   "cell_type": "code",
   "execution_count": 3,
   "metadata": {},
   "outputs": [
    {
     "name": "stdout",
     "output_type": "stream",
     "text": [
      "2025-02-12\n",
      "2025-02-13\n",
      "2025-02-11\n"
     ]
    }
   ],
   "source": [
    "#2\n",
    "import datetime\n",
    "\n",
    "today = datetime.datetime.now()\n",
    "days = 1\n",
    "tomorrow = today + datetime.timedelta(days)\n",
    "yesterday = today - datetime.timedelta(days)\n",
    "print(today.strftime(\"%Y-%m-%d\"))\n",
    "print(tomorrow.strftime(\"%Y-%m-%d\"))\n",
    "print(yesterday.strftime(\"%Y-%m-%d\"))\n"
   ]
  },
  {
   "cell_type": "code",
   "execution_count": 4,
   "metadata": {},
   "outputs": [
    {
     "name": "stdout",
     "output_type": "stream",
     "text": [
      "2025-02-12\n",
      "2025-02-07\n"
     ]
    }
   ],
   "source": [
    "#1\n",
    "import datetime\n",
    "\n",
    "x = datetime.datetime.now()\n",
    "days = 5\n",
    "new = x - datetime.timedelta(days)\n",
    "print(x.strftime(\"%Y-%m-%d\"))\n",
    "print(new.strftime(\"%Y-%m-%d\"))"
   ]
  },
  {
   "cell_type": "code",
   "execution_count": 5,
   "metadata": {},
   "outputs": [
    {
     "name": "stdout",
     "output_type": "stream",
     "text": [
      "2025-02-12 12:35:54\n"
     ]
    }
   ],
   "source": [
    "#3\n",
    "import datetime\n",
    "x = datetime.datetime.now()\n",
    "micr = x.replace(microsecond=0)\n",
    "print(micr)"
   ]
  },
  {
   "cell_type": "code",
   "execution_count": 11,
   "metadata": {},
   "outputs": [
    {
     "name": "stdout",
     "output_type": "stream",
     "text": [
      "2025-02-12 14:30:00 2025-02-09 12:15:05\n",
      "267295.0\n"
     ]
    }
   ],
   "source": [
    "#4\n",
    "import datetime\n",
    "x = datetime.datetime(2025, 2, 12, 14, 30, 0)  \n",
    "y = datetime.datetime(2025, 2, 9, 12, 15, 5)\n",
    "diff = x-y\n",
    "totalsecond = diff.total_seconds()\n",
    "print(x, y)\n",
    "print(totalsecond)"
   ]
  }
 ],
 "metadata": {
  "kernelspec": {
   "display_name": "Python 3",
   "language": "python",
   "name": "python3"
  },
  "language_info": {
   "codemirror_mode": {
    "name": "ipython",
    "version": 3
   },
   "file_extension": ".py",
   "mimetype": "text/x-python",
   "name": "python",
   "nbconvert_exporter": "python",
   "pygments_lexer": "ipython3",
   "version": "3.10.11"
  }
 },
 "nbformat": 4,
 "nbformat_minor": 2
}
