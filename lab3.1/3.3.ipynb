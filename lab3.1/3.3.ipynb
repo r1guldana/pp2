{
 "cells": [
  {
   "cell_type": "code",
   "execution_count": 1,
   "metadata": {},
   "outputs": [
    {
     "name": "stdout",
     "output_type": "stream",
     "text": [
      "HELLO WORLD\n"
     ]
    }
   ],
   "source": [
    "class String:\n",
    "    def __init__(self, s = \"\"):\n",
    "        self.s = s\n",
    "    def getString(self):\n",
    "        self.s = input()\n",
    "    \n",
    "    def printString(self):\n",
    "        print(self.s.upper())\n",
    "s1 = String()\n",
    "s1.getString()\n",
    "s1.printString()"
   ]
  },
  {
   "cell_type": "code",
   "execution_count": 2,
   "metadata": {},
   "outputs": [
    {
     "name": "stdout",
     "output_type": "stream",
     "text": [
      "0\n",
      "25\n"
     ]
    }
   ],
   "source": [
    "class shape:\n",
    "    def __init__(self):\n",
    "        self.area = 0\n",
    "    def out(self):\n",
    "        print(self.area)\n",
    "\n",
    "class square(shape):\n",
    "    def __init__(self, length):\n",
    "        self.length = length\n",
    "        self.area = length * length\n",
    "    def out(self):\n",
    "        print(self.area)\n",
    "\n",
    "sh = shape()\n",
    "sh.out()  \n",
    "\n",
    "sq = square(5)\n",
    "sq.out() "
   ]
  },
  {
   "cell_type": "code",
   "execution_count": 3,
   "metadata": {},
   "outputs": [
    {
     "name": "stdout",
     "output_type": "stream",
     "text": [
      "15\n"
     ]
    }
   ],
   "source": [
    "class shape:\n",
    "    def __init__(self):\n",
    "        self.area = 0\n",
    "class Rectangle(shape):\n",
    "    def __init__(self, length, width):\n",
    "        super().__init__() \n",
    "        self.length = length\n",
    "        self.width = width\n",
    "        self.calculate_area()  \n",
    "\n",
    "    def calculate_area(self):\n",
    "        self.area = self.length * self.width\n",
    "\n",
    "rect = Rectangle(5, 3)\n",
    "print(rect.area)   "
   ]
  },
  {
   "cell_type": "code",
   "execution_count": 4,
   "metadata": {},
   "outputs": [
    {
     "name": "stdout",
     "output_type": "stream",
     "text": [
      "1 2\n",
      "3 4\n",
      "3 1\n",
      "3.0\n"
     ]
    }
   ],
   "source": [
    "class Point :\n",
    "    def __init__(self, x, y):\n",
    "        self.x = x\n",
    "        self.y = y\n",
    "    def show(self):\n",
    "        print(self.x, self.y)\n",
    "    def move(self, a, b):\n",
    "        self.x += a\n",
    "        self.y += b\n",
    "    def dist(self, point2):\n",
    "        a = self.x - point2.x\n",
    "        b = self.y - point2.y\n",
    "        return ((a)**2 + (b)**2)**0.5 \n",
    "p1 = Point(1, 2)\n",
    "p2 = Point(3, 4)\n",
    "\n",
    "p1.show()  \n",
    "p2.show()  \n",
    "\n",
    "p1.move(2, -1)\n",
    "p1.show()  \n",
    "\n",
    "distance = p1.dist(p2)\n",
    "print(distance)\n"
   ]
  },
  {
   "cell_type": "code",
   "execution_count": 5,
   "metadata": {},
   "outputs": [
    {
     "name": "stdout",
     "output_type": "stream",
     "text": [
      "1000\n",
      "500\n"
     ]
    }
   ],
   "source": [
    "class Acccount:\n",
    "    def __init__(self, owner ):#owner balance deposit withdraw\n",
    "        self.owner = owner\n",
    "        self.balance = 0\n",
    "    def deposits(self, amount ):\n",
    "        self.balance += amount\n",
    "        print(self.balance)\n",
    "    def withdraw(self, amount):\n",
    "        self.balance -= amount\n",
    "    \n",
    "        print(self.balance)\n",
    "\n",
    "acc = Acccount(\"Human1\")\n",
    "acc.deposits(1000)\n",
    "\n",
    "acc.withdraw(500)"
   ]
  },
  {
   "cell_type": "code",
   "execution_count": 7,
   "metadata": {},
   "outputs": [
    {
     "name": "stdout",
     "output_type": "stream",
     "text": [
      "[2, 3, 5, 7, 11, 13]\n"
     ]
    }
   ],
   "source": [
    "class Filter:\n",
    "    def __init__(self):\n",
    "        pass\n",
    "    def prime(self, num):\n",
    "        if num <= 1 :\n",
    "            return False\n",
    "        for i in range(2, int(num**0.5)+1):\n",
    "            if num % i == 0:\n",
    "                return False\n",
    "        return True\n",
    "    \n",
    "    def is_prm(self, num):\n",
    "         return list(filter(self.prime, num))\n",
    "o = Filter()\n",
    "numbers = [1, 2, 3, 4, 5, 6, 7, 8, 9, 11, 13]\n",
    "primes = o.is_prm(numbers)\n",
    "print(primes) "
   ]
  }
 ],
 "metadata": {
  "kernelspec": {
   "display_name": "Python 3",
   "language": "python",
   "name": "python3"
  },
  "language_info": {
   "codemirror_mode": {
    "name": "ipython",
    "version": 3
   },
   "file_extension": ".py",
   "mimetype": "text/x-python",
   "name": "python",
   "nbconvert_exporter": "python",
   "pygments_lexer": "ipython3",
   "version": "3.10.11"
  }
 },
 "nbformat": 4,
 "nbformat_minor": 2
}
