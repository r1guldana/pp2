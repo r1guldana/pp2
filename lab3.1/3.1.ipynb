{
 "cells": [
  {
   "cell_type": "code",
   "execution_count": 9,
   "metadata": {},
   "outputs": [
    {
     "name": "stdout",
     "output_type": "stream",
     "text": [
      "963.8837854\n"
     ]
    }
   ],
   "source": [
    "def gram_to_ounce(grams, n):\n",
    "    ounces = n * grams\n",
    "    return ounces\n",
    "gram = int(input())\n",
    "n = 28.3495231\n",
    "print(gram_to_ounce(gram, n))"
   ]
  },
  {
   "cell_type": "code",
   "execution_count": 8,
   "metadata": {},
   "outputs": [
    {
     "name": "stdout",
     "output_type": "stream",
     "text": [
      "-15.555555555555557\n"
     ]
    }
   ],
   "source": [
    "def temperature(F):\n",
    "    C = ((5 / 9) * (F - 32))\n",
    "    return C\n",
    "F = int(input())\n",
    "print(temperature(F))\n"
   ]
  },
  {
   "cell_type": "code",
   "execution_count": 9,
   "metadata": {},
   "outputs": [
    {
     "name": "stdout",
     "output_type": "stream",
     "text": [
      "rabbits: 13.0 chickens: 21.0\n"
     ]
    }
   ],
   "source": [
    "def func(numhead, numleg):\n",
    "\n",
    "    #numhead = chicken + rabbit \n",
    "    #numleg = 2*chicken + 4*rabbit\n",
    "    #numleg/2 = chicken + 2*rabbit\n",
    "    #numleg/2 = numhead + rabbits\n",
    "    rabbit = numleg/2 - numhead\n",
    "    chicken = numhead - rabbit\n",
    "    print(\"rabbits:\", rabbit, \"chickens:\", chicken)\n",
    "\n",
    "heads = 34\n",
    "legs = 94\n",
    "func(heads, legs)\n"
   ]
  },
  {
   "cell_type": "code",
   "execution_count": 1,
   "metadata": {},
   "outputs": [
    {
     "name": "stdout",
     "output_type": "stream",
     "text": [
      "3\n",
      "5\n",
      "5\n",
      "7\n"
     ]
    }
   ],
   "source": [
    "def is_prime(n):\n",
    "    if n < 2:\n",
    "        return False\n",
    "    for i in range(2, int(n ** 0.5) + 1):\n",
    "        if n % i == 0:\n",
    "            return False\n",
    "    return True\n",
    "nums = list(map(int, input().split()))\n",
    "for i in range(len(nums)):\n",
    "    if is_prime(nums[i]):\n",
    "        print(nums[i])"
   ]
  },
  {
   "cell_type": "code",
   "execution_count": 5,
   "metadata": {},
   "outputs": [
    {
     "name": "stdout",
     "output_type": "stream",
     "text": [
      "abc\n",
      "acb\n",
      "bac\n",
      "bca\n",
      "cab\n",
      "cba\n"
     ]
    }
   ],
   "source": [
    "def permutations(s, answer=\"\"):\n",
    "    if len(s) == 0:\n",
    "        print(answer)\n",
    "        return\n",
    "\n",
    "\n",
    "    for i in range(len(s)):\n",
    "        news = s[:i] + s[i+1:] \n",
    "        permutations(news, answer + s[i]) \n",
    "    \n",
    "s = input()\n",
    "permutations(s)"
   ]
  },
  {
   "cell_type": "code",
   "execution_count": 3,
   "metadata": {},
   "outputs": [
    {
     "name": "stdout",
     "output_type": "stream",
     "text": [
      "ready are we\n"
     ]
    }
   ],
   "source": [
    "def rev(word):\n",
    "    sentence = word.split()\n",
    "    revsentence = sentence[::-1]\n",
    "    revword = \" \".join(revsentence)\n",
    "    return revword\n",
    "words = input()\n",
    "output = rev(words)\n",
    "print(output)"
   ]
  },
  {
   "cell_type": "code",
   "execution_count": 4,
   "metadata": {},
   "outputs": [
    {
     "name": "stdout",
     "output_type": "stream",
     "text": [
      "True\n",
      "False\n",
      "False\n",
      "True\n"
     ]
    }
   ],
   "source": [
    "def has_33(nums):\n",
    "    for i in range(len(nums) - 1):  \n",
    "        if nums[i] == 3 and nums[i + 1] == 3:  \n",
    "            return True\n",
    "    return False  \n",
    "print(has_33([1, 3, 3]))    \n",
    "print(has_33([1, 3, 1, 3]))    \n",
    "print(has_33([3, 1, 3]))       \n",
    "print(has_33([3, 3, 1, 3, 3])) "
   ]
  },
  {
   "cell_type": "code",
   "execution_count": 2,
   "metadata": {},
   "outputs": [
    {
     "name": "stdout",
     "output_type": "stream",
     "text": [
      "True\n",
      "True\n",
      "False\n"
     ]
    }
   ],
   "source": [
    "def spy_game(nums):\n",
    "    n = [0, 0, 7]  \n",
    "    for num in nums:\n",
    "        if num == n[0]: \n",
    "            n.pop(0)  \n",
    "        if not n:  \n",
    "            return True\n",
    "    return False  \n",
    "print(spy_game([1,2,4,0,0,7,5]))  \n",
    "print(spy_game([1,0,2,4,0,5,7]))  \n",
    "print(spy_game([1,7,2,0,4,5,0]))  "
   ]
  },
  {
   "cell_type": "code",
   "execution_count": 3,
   "metadata": {},
   "outputs": [
    {
     "name": "stdout",
     "output_type": "stream",
     "text": [
      "1259194.4266666665\n"
     ]
    }
   ],
   "source": [
    "def volume(radius):\n",
    "    v = (4/3)*3.14*(radius**3)\n",
    "    return v\n",
    "r = int(input())\n",
    "print(volume(r))"
   ]
  },
  {
   "cell_type": "code",
   "execution_count": 4,
   "metadata": {},
   "outputs": [
    {
     "name": "stdout",
     "output_type": "stream",
     "text": [
      "[1, 2, 3, 4, 5, 6, 7, 8, 9]\n",
      "[7, 8, 9, 10]\n",
      "[5]\n"
     ]
    }
   ],
   "source": [
    "def unique(num):\n",
    "    newlist = []\n",
    "    for i in num:\n",
    "        if i not in newlist:\n",
    "            newlist.append(i)\n",
    "    return newlist\n",
    "print(unique([1, 2, 2, 3, 4, 4, 5, 5, 6, 7, 8, 9, 9]))  \n",
    "print(unique([7, 8, 8, 9, 10, 10, 10]))  \n",
    "print(unique([5, 5, 5, 5, 5]))"
   ]
  },
  {
   "cell_type": "code",
   "execution_count": 6,
   "metadata": {},
   "outputs": [
    {
     "name": "stdout",
     "output_type": "stream",
     "text": [
      "True\n",
      "False\n"
     ]
    }
   ],
   "source": [
    "def palindrome(string):\n",
    "    rev = string[::-1]\n",
    "    if rev == string :\n",
    "        return True\n",
    "    return False\n",
    "s = \"madam\"\n",
    "a = \"hello\"\n",
    "print(palindrome(s))\n",
    "print(palindrome(a))\n"
   ]
  },
  {
   "cell_type": "code",
   "execution_count": 7,
   "metadata": {},
   "outputs": [
    {
     "name": "stdout",
     "output_type": "stream",
     "text": [
      "****\n",
      "*********\n",
      "*******\n"
     ]
    }
   ],
   "source": [
    "def out(lst):\n",
    "    for i in lst:\n",
    "        print(\"*\"*i)\n",
    "histogram = [4, 9, 7]\n",
    "out(histogram)"
   ]
  },
  {
   "cell_type": "code",
   "execution_count": 8,
   "metadata": {},
   "outputs": [
    {
     "name": "stdout",
     "output_type": "stream",
     "text": [
      "Hello! What is your name?\n",
      "\n",
      "Well, kbtu, I am thinking of a number between 1 and 20.\n",
      "Take a guess.\n",
      "Your guess is too low.\n",
      "Take a guess.\n",
      "Your guess is too low.\n",
      "Take a guess.\n",
      "Good job,kbtu! You guessed my number in 3 guesses!\n"
     ]
    }
   ],
   "source": [
    "import random\n",
    "def guess():\n",
    "    print(\"Hello! What is your name?\")\n",
    "    name = input()\n",
    "    print()\n",
    "    print(f\"Well, {name}, I am thinking of a number between 1 and 20.\")\n",
    "    print(\"Take a guess.\")\n",
    "    num = random.randint(1, 20)\n",
    "    attempts = 0 \n",
    "    while True:\n",
    "        guess = int(input())\n",
    "        attempts += 1\n",
    "        if guess < num:\n",
    "            print(\"Your guess is too low.\")\n",
    "            print(\"Take a guess.\")\n",
    "        elif guess > num:\n",
    "            print(\"Your guess is too high.\")\n",
    "            print(\"Take a guess.\")\n",
    "        else:\n",
    "            print(f\"Good job,{name}! You guessed my number in {attempts} guesses!\")\n",
    "            break\n",
    "        \n",
    "guess()"
   ]
  }
 ],
 "metadata": {
  "kernelspec": {
   "display_name": "Python 3",
   "language": "python",
   "name": "python3"
  },
  "language_info": {
   "codemirror_mode": {
    "name": "ipython",
    "version": 3
   },
   "file_extension": ".py",
   "mimetype": "text/x-python",
   "name": "python",
   "nbconvert_exporter": "python",
   "pygments_lexer": "ipython3",
   "version": "3.10.11"
  }
 },
 "nbformat": 4,
 "nbformat_minor": 2
}
